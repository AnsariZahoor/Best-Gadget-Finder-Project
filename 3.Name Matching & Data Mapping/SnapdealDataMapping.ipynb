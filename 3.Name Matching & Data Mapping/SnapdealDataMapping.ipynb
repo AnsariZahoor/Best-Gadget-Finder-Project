{
 "cells": [
  {
   "cell_type": "markdown",
   "id": "90b6cef4",
   "metadata": {},
   "source": [
    "# Snapdeal product data mapping"
   ]
  },
  {
   "cell_type": "code",
   "execution_count": 2,
   "id": "4a794b54",
   "metadata": {},
   "outputs": [],
   "source": [
    "# importing libraries\n",
    "from fuzzywuzzy import fuzz\n",
    "import pandas as pd \n",
    "import re\n",
    "import csv\n",
    "import warnings\n",
    "warnings.filterwarnings('ignore')"
   ]
  },
  {
   "cell_type": "code",
   "execution_count": 3,
   "id": "a3a90295",
   "metadata": {},
   "outputs": [],
   "source": [
    "# Amazon product dataset\n",
    "amazon = pd.read_csv('dataset/AmazonProductdata.csv')\n",
    "\n",
    "# change columns name\n",
    "amazon.rename(columns={'Name': 'Amazon_Name',\n",
    "                       'Synonyms': 'Amazon_Synonyms',\n",
    "                       'SalesPrice': 'Amazon_SalesPrice',\n",
    "                       'OriginalPrice': 'Amazon_OriginalPrice',\n",
    "                       'Availability':'Amazon_Availability',\n",
    "                       'Ratings': 'Amazon_Rating',\n",
    "                       'ProductLink': 'Amazon_ProductLink',\n",
    "                       'ImageLink': 'Amazon_ImageLink'}, inplace=True)"
   ]
  },
  {
   "cell_type": "code",
   "execution_count": 4,
   "id": "abffd208",
   "metadata": {},
   "outputs": [],
   "source": [
    "# Flipkart product dataset\n",
    "flipkart = pd.read_csv('dataset/FlipkartDataset.csv')\n",
    "\n",
    "# change columns name\n",
    "flipkart.rename(columns={'Name': 'Flipkart_Name',\n",
    "                         'Synonyms': 'Flipkart_Synonyms',\n",
    "                         'SalesPrice': 'Flipkart_SalesPrice',\n",
    "                         'OriginalPrice': 'Flipkart_OriginalPrice',\n",
    "                         'Rating': 'Flipkart_Rating',\n",
    "                         'ProductLink': 'Flipkart_ProductLink',\n",
    "                         'ImageLink': 'Flipkart_ImageLink'}, inplace=True)"
   ]
  },
  {
   "cell_type": "code",
   "execution_count": 5,
   "id": "73f0f6f5",
   "metadata": {},
   "outputs": [],
   "source": [
    "# Snapdeal product dataset\n",
    "snapdeal= pd.read_csv('dataset/SnapdealDataset.csv')\n",
    "\n",
    "# change columns name\n",
    "snapdeal.rename(columns={'Name': 'Snapdeal_Name',\n",
    "                         'Synonyms': 'Snapdeal_Synonyms',\n",
    "                         'SalesPrice': 'Snapdeal_SalesPrice',\n",
    "                         'OriginalPrice': 'Snapdeal_OriginalPrice',\n",
    "                         'Rating': 'Snapdeal_Rating',\n",
    "                         'ProductLink': 'Snapdeal_ProductLink',\n",
    "                         'ImageLink': 'Snapdeal_ImageLink',\n",
    "                        'Availibility':'Snapdeal_Availability'}, inplace=True)"
   ]
  },
  {
   "cell_type": "code",
   "execution_count": 6,
   "id": "c1c20d60",
   "metadata": {},
   "outputs": [],
   "source": [
    "# Remove all the special characters\n",
    "amazon_name = amazon['Amazon_Synonyms'].str.replace(r\"[^0-9,a-z,A-Z, ]\",'')\n",
    "amazon_name = amazon_name.str.replace(r\"[,]\",'')\n",
    "amazon_name_lst = amazon_name.to_list()\n",
    "\n",
    "# remove duplicate string\n",
    "new_amazon_name_lst = []\n",
    "for lst in amazon_name_lst:\n",
    "    new_amazon_lst = (' '.join(dict.fromkeys(lst.split())))\n",
    "    new_amazon_name_lst.append(new_amazon_lst)\n",
    "\n",
    "\n",
    "amazon.insert(1, \"New_Amazon_Name\",new_amazon_name_lst)"
   ]
  },
  {
   "cell_type": "code",
   "execution_count": 7,
   "id": "45941f6e",
   "metadata": {},
   "outputs": [],
   "source": [
    "# Remove all the special characters\n",
    "flipkart_name = flipkart['Flipkart_Name'].str.replace(r\"[(),,]\",'')\n",
    "flipkart.insert(1, \"New_Flipkart_Name\",flipkart_name, True)"
   ]
  },
  {
   "cell_type": "code",
   "execution_count": 8,
   "id": "c6282e2f",
   "metadata": {},
   "outputs": [],
   "source": [
    "# Remove all the special characters\n",
    "snapdeal_name = snapdeal['Snapdeal_Name'].str.replace(r\"[(),,]\",'')\n",
    "snapdeal.insert(1, \"New_Snapdeal_Name\",snapdeal_name, True)"
   ]
  },
  {
   "cell_type": "markdown",
   "id": "4a5fd36a",
   "metadata": {},
   "source": [
    "# SnapDeal data mapping"
   ]
  },
  {
   "cell_type": "markdown",
   "id": "8928eee7",
   "metadata": {},
   "source": [
    "### 1.SnapDeal with Amazon"
   ]
  },
  {
   "cell_type": "code",
   "execution_count": 9,
   "id": "2dd61b6f",
   "metadata": {},
   "outputs": [],
   "source": [
    "def get_match(snapdeal):\n",
    "    \"\"\"Extract and Return matched value using fuzzywuzzy\"\"\"\n",
    "    \n",
    "    dictionary_name = {}\n",
    "    try:\n",
    "        # iterate flipkart product name\n",
    "        for product_name in amazon['New_Amazon_Name']:\n",
    "\n",
    "            # string matching using token_set_ratio function\n",
    "            match = fuzz.token_set_ratio(snapdeal, product_name)\n",
    "            \n",
    "            if match >= 85:\n",
    "                dictionary_name[product_name] = match\n",
    "                Keymax = max(dictionary_name, key=dictionary_name.get)\n",
    "                \n",
    "        # return max matched value\n",
    "        return Keymax\n",
    "    except:\n",
    "        # return NAN if not matched\n",
    "        return ''\n",
    "\n",
    "    \n",
    "# store matched values\n",
    "amazon_result = []\n",
    "\n",
    "# Iterate flipkart product name\n",
    "for item in snapdeal['New_Snapdeal_Name']:\n",
    "    record = get_match(item)\n",
    "    amazon_result.append(record)\n",
    "\n",
    "snapdeal.insert(2, \"New_Amazon_Name\", amazon_result)"
   ]
  },
  {
   "cell_type": "markdown",
   "id": "2784d425",
   "metadata": {},
   "source": [
    "### 2.SnapDeal with Flipkart"
   ]
  },
  {
   "cell_type": "code",
   "execution_count": 11,
   "id": "49527579",
   "metadata": {},
   "outputs": [],
   "source": [
    "def get_match(snapdeal):\n",
    "    \"\"\"Extract and Return matched value using fuzzywuzzy\"\"\"\n",
    "    \n",
    "    dictionary_name = {}\n",
    "    try :\n",
    "        # iterate snapdeal product name\n",
    "        for product_name in flipkart['New_Flipkart_Name']:\n",
    "            \n",
    "            # string matching using token_set_ratio function\n",
    "            match = fuzz.token_set_ratio(snapdeal,product_name)\n",
    "            \n",
    "            if match >=85 :\n",
    "                dictionary_name[product_name] = match\n",
    "                Keymax = max(dictionary_name, key=dictionary_name.get)   \n",
    "        \n",
    "        # return max matched value       \n",
    "        return Keymax\n",
    "    except :\n",
    "        # return NAN if not matched\n",
    "        return ''\n",
    "\n",
    "# store matched values\n",
    "flipkart_result = []\n",
    "\n",
    "# Iterate amazon product name\n",
    "for item in snapdeal['New_Snapdeal_Name']:\n",
    "    record = get_match(item)\n",
    "    flipkart_result.append(record)\n",
    "    \n",
    "snapdeal.insert(3, \"New_Flipkart_Name\",flipkart_result)"
   ]
  },
  {
   "cell_type": "markdown",
   "id": "41a96c64",
   "metadata": {},
   "source": [
    "# Merge Snapdeal dataset"
   ]
  },
  {
   "cell_type": "code",
   "execution_count": 13,
   "id": "12127eea",
   "metadata": {},
   "outputs": [],
   "source": [
    "# Merge amazon and flipkart data in snapdeal dataset\n",
    "Snapdeal_data = snapdeal.merge(amazon,on='New_Amazon_Name',how='left')\n",
    "new_snapdeal_data = Snapdeal_data.merge(flipkart,on='New_Flipkart_Name',how='left')"
   ]
  },
  {
   "cell_type": "code",
   "execution_count": 15,
   "id": "dea95233",
   "metadata": {},
   "outputs": [],
   "source": [
    "# drop unwanted columns\n",
    "new_snapdeal_data = new_snapdeal_data.drop(['Id','ID_x','ID_y','New_Amazon_Name','New_Flipkart_Name','New_Snapdeal_Name'], axis = 1)"
   ]
  },
  {
   "cell_type": "code",
   "execution_count": 16,
   "id": "38135ec1",
   "metadata": {
    "scrolled": true
   },
   "outputs": [
    {
     "data": {
      "text/plain": [
       "Index(['Snapdeal_Name', 'Snapdeal_Synonyms', 'Snapdeal_SalesPrice',\n",
       "       'Snapdeal_OriginalPrice', 'Snapdeal_Rating', 'Snapdeal_ProductLink',\n",
       "       'Snapdeal_ImageLink', 'Snapdeal_Availability', 'Amazon_Name',\n",
       "       'Amazon_Synonyms', 'Amazon_SalesPrice', 'Amazon_OriginalPrice',\n",
       "       'Amazon_Availability', 'Amazon_Rating', 'Amazon_ProductLink',\n",
       "       'Amazon_ImageLink', 'Flipkart_Name', 'Flipkart_Synonyms',\n",
       "       'Flipkart_SalesPrice', 'Flipkart_OriginalPrice', 'Flipkart_Rating',\n",
       "       'Flipkart_ProductLink', 'Flipkart_ImageLink'],\n",
       "      dtype='object')"
      ]
     },
     "execution_count": 16,
     "metadata": {},
     "output_type": "execute_result"
    }
   ],
   "source": [
    "# There are the columns \n",
    "new_snapdeal_data.columns"
   ]
  },
  {
   "cell_type": "markdown",
   "id": "b1d858fb",
   "metadata": {},
   "source": [
    "# Save data into csv file"
   ]
  },
  {
   "cell_type": "code",
   "execution_count": 19,
   "id": "2b5db1c3",
   "metadata": {},
   "outputs": [],
   "source": [
    "# Drop duplicates column from flipart name \n",
    "new_snapdeal_data = new_snapdeal_data.drop_duplicates()\n",
    "\n",
    "# Save dataframe in csv file\n",
    "new_snapdeal_data.to_csv('SnaldealMappedData.csv',index=0)"
   ]
  }
 ],
 "metadata": {
  "kernelspec": {
   "display_name": "Python 3",
   "language": "python",
   "name": "python3"
  },
  "language_info": {
   "codemirror_mode": {
    "name": "ipython",
    "version": 3
   },
   "file_extension": ".py",
   "mimetype": "text/x-python",
   "name": "python",
   "nbconvert_exporter": "python",
   "pygments_lexer": "ipython3",
   "version": "3.8.8"
  },
  "varInspector": {
   "cols": {
    "lenName": 16,
    "lenType": 16,
    "lenVar": 40
   },
   "kernels_config": {
    "python": {
     "delete_cmd_postfix": "",
     "delete_cmd_prefix": "del ",
     "library": "var_list.py",
     "varRefreshCmd": "print(var_dic_list())"
    },
    "r": {
     "delete_cmd_postfix": ") ",
     "delete_cmd_prefix": "rm(",
     "library": "var_list.r",
     "varRefreshCmd": "cat(var_dic_list()) "
    }
   },
   "position": {
    "height": "441px",
    "left": "996px",
    "right": "20px",
    "top": "120px",
    "width": "350px"
   },
   "types_to_exclude": [
    "module",
    "function",
    "builtin_function_or_method",
    "instance",
    "_Feature"
   ],
   "window_display": false
  }
 },
 "nbformat": 4,
 "nbformat_minor": 5
}
