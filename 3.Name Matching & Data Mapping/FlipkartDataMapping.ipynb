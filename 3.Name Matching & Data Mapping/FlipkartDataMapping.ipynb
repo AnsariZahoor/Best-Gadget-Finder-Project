{
 "cells": [
  {
   "cell_type": "markdown",
   "id": "6c313cd5",
   "metadata": {},
   "source": [
    "# Flikpart product data mapping"
   ]
  },
  {
   "cell_type": "code",
   "execution_count": 2,
   "id": "4a794b54",
   "metadata": {},
   "outputs": [],
   "source": [
    "# importing libraries\n",
    "from fuzzywuzzy import fuzz\n",
    "import pandas as pd \n",
    "import re\n",
    "import csv\n",
    "import warnings\n",
    "warnings.filterwarnings('ignore')"
   ]
  },
  {
   "cell_type": "code",
   "execution_count": 3,
   "id": "a3a90295",
   "metadata": {},
   "outputs": [],
   "source": [
    "# Amazon product dataset\n",
    "amazon = pd.read_csv('dataset/AmazonProductdata.csv')\n",
    "\n",
    "# change columns name\n",
    "amazon.rename(columns={'Name': 'Amazon_Name',\n",
    "                       'Synonyms': 'Amazon_Synonyms',\n",
    "                       'SalesPrice': 'Amazon_SalesPrice',\n",
    "                       'OriginalPrice': 'Amazon_OriginalPrice',\n",
    "                       'Availability':'Amazon_Availability',\n",
    "                       'Ratings': 'Amazon_Rating',\n",
    "                       'ProductLink': 'Amazon_ProductLink',\n",
    "                       'ImageLink': 'Amazon_ImageLink'}, inplace=True)"
   ]
  },
  {
   "cell_type": "code",
   "execution_count": 4,
   "id": "abffd208",
   "metadata": {},
   "outputs": [],
   "source": [
    "# Flipkart product dataset\n",
    "flipkart = pd.read_csv('dataset/FlipkartDataset.csv')\n",
    "\n",
    "# change columns name\n",
    "flipkart.rename(columns={'Name': 'Flipkart_Name',\n",
    "                         'Synonyms': 'Flipkart_Synonyms',\n",
    "                         'SalesPrice': 'Flipkart_SalesPrice',\n",
    "                         'OriginalPrice': 'Flipkart_OriginalPrice',\n",
    "                         'Rating': 'Flipkart_Rating',\n",
    "                         'ProductLink': 'Flipkart_ProductLink',\n",
    "                         'ImageLink': 'Flipkart_ImageLink'}, inplace=True)"
   ]
  },
  {
   "cell_type": "code",
   "execution_count": 5,
   "id": "73f0f6f5",
   "metadata": {},
   "outputs": [],
   "source": [
    "# Snapdeal product dataset\n",
    "snapdeal= pd.read_csv('dataset/SnapdealDataset.csv')\n",
    "\n",
    "# change columns name\n",
    "snapdeal.rename(columns={'Name': 'Snapdeal_Name',\n",
    "                         'Synonyms': 'Snapdeal_Synonyms',\n",
    "                         'SalesPrice': 'Snapdeal_SalesPrice',\n",
    "                         'OriginalPrice': 'Snapdeal_OriginalPrice',\n",
    "                         'Rating': 'Snapdeal_Rating',\n",
    "                         'ProductLink': 'Snapdeal_ProductLink',\n",
    "                         'ImageLink': 'Snapdeal_ImageLink',\n",
    "                        'Availibility':'Snapdeal_Availability'}, inplace=True)"
   ]
  },
  {
   "cell_type": "code",
   "execution_count": 6,
   "id": "c1c20d60",
   "metadata": {},
   "outputs": [],
   "source": [
    "# Remove all the special characters\n",
    "amazon_name = amazon['Amazon_Synonyms'].str.replace(r\"[^0-9,a-z,A-Z, ]\",'')\n",
    "amazon_name = amazon_name.str.replace(r\"[,]\",'')\n",
    "amazon_name_lst = amazon_name.to_list()\n",
    "\n",
    "# remove duplicate string\n",
    "new_amazon_name_lst = []\n",
    "for lst in amazon_name_lst:\n",
    "    new_amazon_lst = (' '.join(dict.fromkeys(lst.split())))\n",
    "    new_amazon_name_lst.append(new_amazon_lst)\n",
    "\n",
    "\n",
    "amazon.insert(1, \"New_Amazon_Name\",new_amazon_name_lst)"
   ]
  },
  {
   "cell_type": "code",
   "execution_count": 7,
   "id": "45941f6e",
   "metadata": {},
   "outputs": [],
   "source": [
    "# Remove all the special characters\n",
    "flipkart_name = flipkart['Flipkart_Name'].str.replace(r\"[(),,]\",'')\n",
    "flipkart.insert(1, \"New_Flipkart_Name\",flipkart_name, True)"
   ]
  },
  {
   "cell_type": "code",
   "execution_count": 8,
   "id": "c6282e2f",
   "metadata": {},
   "outputs": [],
   "source": [
    "# Remove all the special characters\n",
    "snapdeal_name = snapdeal['Snapdeal_Name'].str.replace(r\"[(),,]\",'')\n",
    "snapdeal.insert(1, \"New_Snapdeal_Name\",snapdeal_name, True)"
   ]
  },
  {
   "cell_type": "markdown",
   "id": "4b3a945b",
   "metadata": {},
   "source": [
    "# Flipkart data mapping"
   ]
  },
  {
   "cell_type": "markdown",
   "id": "b19437d1",
   "metadata": {},
   "source": [
    "### 1.Flipkart with Amazon"
   ]
  },
  {
   "cell_type": "code",
   "execution_count": 9,
   "id": "70517d34",
   "metadata": {},
   "outputs": [],
   "source": [
    "def get_match(flipkart):\n",
    "    \"\"\"Extract and Return matched value using fuzzywuzzy\"\"\"\n",
    "    \n",
    "    dictionary_name = {}\n",
    "    try:\n",
    "        # iterate flipkart product name\n",
    "        for product_name in amazon['New_Amazon_Name']:\n",
    "\n",
    "            # string matching using token_set_ratio function\n",
    "            match = fuzz.token_set_ratio(flipkart, product_name)\n",
    "            \n",
    "            if match >= 85:\n",
    "                dictionary_name[product_name] = match\n",
    "                Keymax = max(dictionary_name, key=dictionary_name.get)\n",
    "                \n",
    "        # return max matched value\n",
    "        return Keymax\n",
    "    except:\n",
    "        # return NAN if not matched\n",
    "        return ''\n",
    "\n",
    "    \n",
    "# store matched values\n",
    "amazon_result = []\n",
    "\n",
    "# Iterate flipkart product name\n",
    "for item in flipkart['New_Flipkart_Name']:\n",
    "    record = get_match(item)\n",
    "    amazon_result.append(record)\n",
    "\n",
    "flipkart.insert(2, \"New_Amazon_Name\", amazon_result)"
   ]
  },
  {
   "cell_type": "markdown",
   "id": "d62e3c0a",
   "metadata": {},
   "source": [
    "### 2.Flipkart with Snapdeal"
   ]
  },
  {
   "cell_type": "code",
   "execution_count": 11,
   "id": "c4990550",
   "metadata": {},
   "outputs": [],
   "source": [
    "def get_match(flipkart):\n",
    "    \"\"\"Extract and Return matched value using fuzzywuzzy\"\"\"\n",
    "    \n",
    "    dictionary_name = {}\n",
    "    try :\n",
    "        # iterate snapdeal product name\n",
    "        for product_name in snapdeal['New_Snapdeal_Name']:\n",
    "            \n",
    "            # string matching using token_set_ratio function\n",
    "            match = fuzz.token_set_ratio(flipkart,product_name)\n",
    "            \n",
    "            if match >=85 :\n",
    "                dictionary_name[product_name] = match\n",
    "                Keymax = max(dictionary_name, key=dictionary_name.get)   \n",
    "        \n",
    "        # return max matched value       \n",
    "        return Keymax\n",
    "    except :\n",
    "        # return NAN if not matched\n",
    "        return ''\n",
    "\n",
    "# store matched values\n",
    "snapdeal_result = []\n",
    "\n",
    "# Iterate amazon product name\n",
    "for item in flipkart['New_Flipkart_Name']:\n",
    "    record = get_match(item)\n",
    "    snapdeal_result.append(record)\n",
    "    \n",
    "flipkart.insert(3, \"New_Snapdeal_Name\",snapdeal_result)"
   ]
  },
  {
   "cell_type": "markdown",
   "id": "2af24215",
   "metadata": {},
   "source": [
    "# Merge Flipkart dataset"
   ]
  },
  {
   "cell_type": "code",
   "execution_count": 13,
   "id": "ab175e33",
   "metadata": {},
   "outputs": [],
   "source": [
    "# Merge amazon and snapdeal data in flipkart dataset\n",
    "Flipkart_data = flipkart.merge(amazon,on='New_Amazon_Name',how='left')\n",
    "new_flipkart_data = Flipkart_data.merge(snapdeal,on='New_Snapdeal_Name',how='left')"
   ]
  },
  {
   "cell_type": "code",
   "execution_count": 14,
   "id": "dea95233",
   "metadata": {},
   "outputs": [],
   "source": [
    "# drop unwanted columns\n",
    "new_flipkart_data = new_flipkart_data.drop(['Id','ID_x','ID_y','New_Amazon_Name','New_Flipkart_Name','New_Snapdeal_Name'], axis = 1)"
   ]
  },
  {
   "cell_type": "code",
   "execution_count": 15,
   "id": "38135ec1",
   "metadata": {
    "scrolled": false
   },
   "outputs": [
    {
     "data": {
      "text/plain": [
       "Index(['Flipkart_Name', 'Flipkart_Synonyms', 'Flipkart_SalesPrice',\n",
       "       'Flipkart_OriginalPrice', 'Flipkart_Rating', 'Flipkart_ProductLink',\n",
       "       'Flipkart_ImageLink', 'Amazon_Name', 'Amazon_Synonyms',\n",
       "       'Amazon_SalesPrice', 'Amazon_OriginalPrice', 'Amazon_Availability',\n",
       "       'Amazon_Rating', 'Amazon_ProductLink', 'Amazon_ImageLink',\n",
       "       'Snapdeal_Name', 'Snapdeal_Synonyms', 'Snapdeal_SalesPrice',\n",
       "       'Snapdeal_OriginalPrice', 'Snapdeal_Rating', 'Snapdeal_ProductLink',\n",
       "       'Snapdeal_ImageLink', 'Snapdeal_Availability'],\n",
       "      dtype='object')"
      ]
     },
     "execution_count": 15,
     "metadata": {},
     "output_type": "execute_result"
    }
   ],
   "source": [
    "# There are the columns \n",
    "new_flipkart_data.columns"
   ]
  },
  {
   "cell_type": "markdown",
   "id": "9ca0766c",
   "metadata": {},
   "source": [
    "# Save data into csv file"
   ]
  },
  {
   "cell_type": "code",
   "execution_count": 18,
   "id": "2b5db1c3",
   "metadata": {},
   "outputs": [],
   "source": [
    "# Drop duplicates column from flipart name \n",
    "new_flipkart_data = new_flipkart_data.drop_duplicates()\n",
    "\n",
    "# Save dataframe in csv file\n",
    "new_flipkart_data.to_csv('FlipkartMappedData.csv',index=0)"
   ]
  }
 ],
 "metadata": {
  "kernelspec": {
   "display_name": "Python 3",
   "language": "python",
   "name": "python3"
  },
  "language_info": {
   "codemirror_mode": {
    "name": "ipython",
    "version": 3
   },
   "file_extension": ".py",
   "mimetype": "text/x-python",
   "name": "python",
   "nbconvert_exporter": "python",
   "pygments_lexer": "ipython3",
   "version": "3.8.8"
  },
  "varInspector": {
   "cols": {
    "lenName": 16,
    "lenType": 16,
    "lenVar": 40
   },
   "kernels_config": {
    "python": {
     "delete_cmd_postfix": "",
     "delete_cmd_prefix": "del ",
     "library": "var_list.py",
     "varRefreshCmd": "print(var_dic_list())"
    },
    "r": {
     "delete_cmd_postfix": ") ",
     "delete_cmd_prefix": "rm(",
     "library": "var_list.r",
     "varRefreshCmd": "cat(var_dic_list()) "
    }
   },
   "position": {
    "height": "441px",
    "left": "996px",
    "right": "20px",
    "top": "120px",
    "width": "350px"
   },
   "types_to_exclude": [
    "module",
    "function",
    "builtin_function_or_method",
    "instance",
    "_Feature"
   ],
   "window_display": false
  }
 },
 "nbformat": 4,
 "nbformat_minor": 5
}
