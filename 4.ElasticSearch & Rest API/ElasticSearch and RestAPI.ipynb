{
 "cells": [
  {
   "cell_type": "code",
   "execution_count": 1,
   "id": "80947f9f",
   "metadata": {},
   "outputs": [],
   "source": [
    "# import libraries\n",
    "import elasticsearch\n",
    "from elasticsearch import Elasticsearch\n",
    "from elasticsearch import helpers\n",
    "import pandas as pd\n",
    "import csv\n",
    "import warnings\n",
    "warnings.filterwarnings('ignore')"
   ]
  },
  {
   "cell_type": "code",
   "execution_count": 2,
   "id": "a32529e5",
   "metadata": {},
   "outputs": [
    {
     "data": {
      "text/plain": [
       "True"
      ]
     },
     "execution_count": 2,
     "metadata": {},
     "output_type": "execute_result"
    }
   ],
   "source": [
    "es = Elasticsearch([{'host': 'localhost', 'port': 9200}])\n",
    "es.ping()"
   ]
  },
  {
   "cell_type": "code",
   "execution_count": 3,
   "id": "ea2a5538",
   "metadata": {},
   "outputs": [],
   "source": [
    "# Upload csv new file\n",
    "with open('FinalProductDataset.csv', encoding='utf-8') as f:\n",
    "    reader = csv.DictReader(f)\n",
    "    helpers.bulk(es,reader,index='bestgadgetfinder')"
   ]
  },
  {
   "cell_type": "code",
   "execution_count": 5,
   "id": "124a02f7",
   "metadata": {
    "scrolled": true
   },
   "outputs": [
    {
     "data": {
      "text/plain": [
       "{'took': 11,\n",
       " 'timed_out': False,\n",
       " '_shards': {'total': 1, 'successful': 1, 'skipped': 0, 'failed': 0},\n",
       " 'hits': {'total': {'value': 218, 'relation': 'eq'},\n",
       "  'max_score': 6.6895614,\n",
       "  'hits': [{'_index': 'bestgadgetfinder',\n",
       "    '_type': '_doc',\n",
       "    '_id': 'QrsCYnoBgtQBb3FvUI2A',\n",
       "    '_score': 6.6895614,\n",
       "    '_source': {'Snapdeal_SalesPrice': 'Not Available',\n",
       "     'Flipkart_ImageLink': 'Not Available',\n",
       "     'Flipkart_SalesPrice': 'Not Available',\n",
       "     'Snapdeal_ImageLink': 'Not Available',\n",
       "     'Amazon_SalesPrice': '8799',\n",
       "     'Amazon_ImageLink': 'https://m.media-amazon.com/images/I/71A9Vo1BatL._AC_UY218_.jpg',\n",
       "     'Amazon_ProductLink': 'https://www.amazon.co.in/Redmi-Sky-Blue-64GB-Storage/dp/B08697N43N/ref=sr_1_4?dchild=1&keywords=mobile&qid=1624268743&refinements=p_89%3AASUS%7CAlcatel%7CApple%7CBlackBerry%7CGionee%7CGoogle%7CHTC%7CHonor%7CHuawei%7CIKALL%7CIntex%7CLG%7CLava%7CLenovo%7CMI%7CMicromax%7CMicrosoft%7CMoto%7CMotorola%7CNokia%7COnePlus%7COppo%7CPanasonic%7CRedmi%7CSHIVANSH%7CSamsung%7CSnexian%7CTecno%7CVivo%7CXiaomi%7CXifo%7Citel%7Crealme&rnid=3837712031&s=electronics&sr=1-4',\n",
       "     'New_Name': 'Redmi 9 (Sky Blue, 4GB RAM, 64GB Storage)| 5000 mAh| 2.3GHz Mediatek Helio G35 Octa core Processor',\n",
       "     'Snapdeal_ProductLink': 'Not Available',\n",
       "     'Flipkart_ProductLink': 'Not Available'}},\n",
       "   {'_index': 'bestgadgetfinder',\n",
       "    '_type': '_doc',\n",
       "    '_id': 'SrsCYnoBgtQBb3FvUI2A',\n",
       "    '_score': 6.6895614,\n",
       "    '_source': {'Snapdeal_SalesPrice': 'Not Available',\n",
       "     'Flipkart_ImageLink': 'Not Available',\n",
       "     'Flipkart_SalesPrice': 'Not Available',\n",
       "     'Snapdeal_ImageLink': 'Not Available',\n",
       "     'Amazon_SalesPrice': '8799',\n",
       "     'Amazon_ImageLink': 'https://m.media-amazon.com/images/I/716nHhG9SWL._AC_UY218_.jpg',\n",
       "     'Amazon_ProductLink': 'https://www.amazon.co.in/Redmi-Carbon-Black-64GB-Storage/dp/B086985T6R/ref=sr_1_12?dchild=1&keywords=mobile&qid=1624268743&refinements=p_89%3AASUS%7CAlcatel%7CApple%7CBlackBerry%7CGionee%7CGoogle%7CHTC%7CHonor%7CHuawei%7CIKALL%7CIntex%7CLG%7CLava%7CLenovo%7CMI%7CMicromax%7CMicrosoft%7CMoto%7CMotorola%7CNokia%7COnePlus%7COppo%7CPanasonic%7CRedmi%7CSHIVANSH%7CSamsung%7CSnexian%7CTecno%7CVivo%7CXiaomi%7CXifo%7Citel%7Crealme&rnid=3837712031&s=electronics&sr=1-12',\n",
       "     'New_Name': 'Redmi 9 (Carbon Black, 4GB RAM, 64GB Storage) | 5000 mAh| 2.3GHz Mediatek Helio G35 Octa core Processor',\n",
       "     'Snapdeal_ProductLink': 'Not Available',\n",
       "     'Flipkart_ProductLink': 'Not Available'}},\n",
       "   {'_index': 'bestgadgetfinder',\n",
       "    '_type': '_doc',\n",
       "    '_id': 'S7sCYnoBgtQBb3FvUI2A',\n",
       "    '_score': 6.6895614,\n",
       "    '_source': {'Snapdeal_SalesPrice': '9503.0',\n",
       "     'Flipkart_ImageLink': 'https://rukminim1.flixcart.com/image/312/312/kehfi4w0/mobile/y/a/d/mi-redmi-9-lpddr4x-original-imafv5kyeqsgxgzz.jpeg?q=70',\n",
       "     'Flipkart_SalesPrice': '9189.0',\n",
       "     'Snapdeal_ImageLink': 'https://n4.sdlcdn.com/imgs/j/q/v/Redmi-9-64GB-4-GB-SDL739288936-1-73c5f.jpeg',\n",
       "     'Amazon_SalesPrice': '8799',\n",
       "     'Amazon_ImageLink': 'https://m.media-amazon.com/images/I/71A9Vo1BatL._AC_UY218_.jpg',\n",
       "     'Amazon_ProductLink': 'https://www.amazon.co.in/Redmi-Sporty-Orange-64GB-Storage/dp/B08696W3B3/ref=sr_1_13?dchild=1&keywords=mobile&qid=1624268743&refinements=p_89%3AASUS%7CAlcatel%7CApple%7CBlackBerry%7CGionee%7CGoogle%7CHTC%7CHonor%7CHuawei%7CIKALL%7CIntex%7CLG%7CLava%7CLenovo%7CMI%7CMicromax%7CMicrosoft%7CMoto%7CMotorola%7CNokia%7COnePlus%7COppo%7CPanasonic%7CRedmi%7CSHIVANSH%7CSamsung%7CSnexian%7CTecno%7CVivo%7CXiaomi%7CXifo%7Citel%7Crealme&rnid=3837712031&s=electronics&sr=1-13',\n",
       "     'New_Name': 'Redmi 9 (Sporty Orange, 4GB RAM, 64GB Storage) | 5000 mAh| 2.3GHz Mediatek Helio G35 Octa core Processor',\n",
       "     'Snapdeal_ProductLink': 'https://www.snapdeal.com/product/redmi-9-64gb-4-gb/8070451197392499197',\n",
       "     'Flipkart_ProductLink': 'https://www.flipkart.com/redmi-9-sporty-orange-64-gb/p/itm4fb151383983b?pid=MOBFV5FPCJC9ZKRB&lid=LSTMOBFV5FPCJC9ZKRBGJY4JX&marketplace=FLIPKART&store=tyy%2F4io&srno=b_14_317&otracker=browse&fm=organic&iid=d6ec1086-61cf-4bc4-bf7e-55b8e48c07b7.MOBFV5FPCJC9ZKRB.SEARCH&ppt=None&ppn=None&ssid=nq33601uzk0000001624017575308'}},\n",
       "   {'_index': 'bestgadgetfinder',\n",
       "    '_type': '_doc',\n",
       "    '_id': 'BLsCYnoBgtQBb3FvV5dc',\n",
       "    '_score': 6.6895614,\n",
       "    '_source': {'Snapdeal_SalesPrice': '9503.0',\n",
       "     'Flipkart_ImageLink': 'https://rukminim1.flixcart.com/image/312/312/kehfi4w0/mobile/y/a/d/mi-redmi-9-lpddr4x-original-imafv5kyeqsgxgzz.jpeg?q=70',\n",
       "     'Flipkart_SalesPrice': '9189.0',\n",
       "     'Snapdeal_ImageLink': 'https://n4.sdlcdn.com/imgs/j/q/v/Redmi-9-64GB-4-GB-SDL739288936-1-73c5f.jpeg',\n",
       "     'Amazon_SalesPrice': '8799',\n",
       "     'Amazon_ImageLink': 'https://m.media-amazon.com/images/I/71A9Vo1BatL._AC_UY218_.jpg',\n",
       "     'Amazon_ProductLink': 'https://www.amazon.co.in/Redmi-Sporty-Orange-64GB-Storage/dp/B08696W3B3/ref=sr_1_13?dchild=1&keywords=mobile&qid=1624268743&refinements=p_89%3AASUS%7CAlcatel%7CApple%7CBlackBerry%7CGionee%7CGoogle%7CHTC%7CHonor%7CHuawei%7CIKALL%7CIntex%7CLG%7CLava%7CLenovo%7CMI%7CMicromax%7CMicrosoft%7CMoto%7CMotorola%7CNokia%7COnePlus%7COppo%7CPanasonic%7CRedmi%7CSHIVANSH%7CSamsung%7CSnexian%7CTecno%7CVivo%7CXiaomi%7CXifo%7Citel%7Crealme&rnid=3837712031&s=electronics&sr=1-13',\n",
       "     'New_Name': 'Redmi 9 (Sporty Orange, 4GB RAM, 64GB Storage) | 5000 mAh| 2.3GHz Mediatek Helio G35 Octa core Processor',\n",
       "     'Snapdeal_ProductLink': 'https://www.snapdeal.com/product/redmi-9-64gb-4-gb/8070451197392499197',\n",
       "     'Flipkart_ProductLink': 'https://www.flipkart.com/redmi-9-sporty-orange-64-gb/p/itm4fb151383983b?pid=MOBFV5FPCJC9ZKRB&lid=LSTMOBFV5FPCJC9ZKRBGJY4JX&marketplace=FLIPKART&store=tyy%2F4io&srno=b_14_317&otracker=browse&fm=organic&iid=d6ec1086-61cf-4bc4-bf7e-55b8e48c07b7.MOBFV5FPCJC9ZKRB.SEARCH&ppt=None&ppn=None&ssid=nq33601uzk0000001624017575308'}},\n",
       "   {'_index': 'bestgadgetfinder',\n",
       "    '_type': '_doc',\n",
       "    '_id': 'w7sCYnoBgtQBb3FvWJkY',\n",
       "    '_score': 6.6895614,\n",
       "    '_source': {'Snapdeal_SalesPrice': '9503.0',\n",
       "     'Flipkart_ImageLink': 'https://rukminim1.flixcart.com/image/312/312/kehfi4w0/mobile/y/a/d/mi-redmi-9-lpddr4x-original-imafv5kyeqsgxgzz.jpeg?q=70',\n",
       "     'Flipkart_SalesPrice': '10517.0',\n",
       "     'Snapdeal_ImageLink': 'https://n4.sdlcdn.com/imgs/j/q/v/Redmi-9-64GB-4-GB-SDL739288936-1-73c5f.jpeg',\n",
       "     'Amazon_SalesPrice': '8799',\n",
       "     'Amazon_ImageLink': 'https://m.media-amazon.com/images/I/71A9Vo1BatL._AC_UY218_.jpg',\n",
       "     'Amazon_ProductLink': 'https://www.amazon.co.in/Redmi-Sporty-Orange-64GB-Storage/dp/B08696W3B3/ref=sr_1_13?dchild=1&keywords=mobile&qid=1624268743&refinements=p_89%3AASUS%7CAlcatel%7CApple%7CBlackBerry%7CGionee%7CGoogle%7CHTC%7CHonor%7CHuawei%7CIKALL%7CIntex%7CLG%7CLava%7CLenovo%7CMI%7CMicromax%7CMicrosoft%7CMoto%7CMotorola%7CNokia%7COnePlus%7COppo%7CPanasonic%7CRedmi%7CSHIVANSH%7CSamsung%7CSnexian%7CTecno%7CVivo%7CXiaomi%7CXifo%7Citel%7Crealme&rnid=3837712031&s=electronics&sr=1-13',\n",
       "     'New_Name': 'Redmi 9 (Sporty Orange, 4GB RAM, 64GB Storage) | 5000 mAh| 2.3GHz Mediatek Helio G35 Octa core Processor',\n",
       "     'Snapdeal_ProductLink': 'https://www.snapdeal.com/product/redmi-9-64gb-4-gb/8070451197392499197',\n",
       "     'Flipkart_ProductLink': 'https://www.flipkart.com/redmi-9-sporty-orange-128-gb/p/itmab450ea12f428?pid=MOBFVFN2JZ4UDPGF&lid=LSTMOBFVFN2JZ4UDPGFMWZY9P&marketplace=FLIPKART&store=tyy%2F4io&srno=b_39_935&otracker=browse&fm=organic&iid=ca813d63-bb2d-4555-95c9-7d9067d49e71.MOBFVFN2JZ4UDPGF.SEARCH&ppt=None&ppn=None&ssid=b2zptzqtgw0000001624018262128'}}]}}"
      ]
     },
     "execution_count": 5,
     "metadata": {},
     "output_type": "execute_result"
    }
   ],
   "source": [
    "Searchterm = 'Redmi 9' \n",
    "\n",
    "def SearchDataset(Search):\n",
    "    body = {\n",
    "    \"_source\": [\n",
    "    \"New_Name\",\n",
    "    \"Amazon_SalesPrice\",\n",
    "    \"Flipkart_SalesPrice\",\n",
    "    \"Snapdeal_SalesPrice\",\n",
    "    \"Amazon_ProductLink\",\n",
    "    \"Flipkart_ProductLink\",\n",
    "    \"Snapdeal_ProductLink\",\n",
    "    \"Amazon_ImageLink\",\n",
    "    \"Flipkart_ImageLink\",\n",
    "    \"Snapdeal_ImageLink\",\n",
    "  ],\n",
    "    \"from\":0,\n",
    "    'size':5,\n",
    "    'query':{\n",
    "    \"match\": {\n",
    "        \"Cleaned_Name\":Search\n",
    "        }\n",
    "    }\n",
    "        \n",
    "}\n",
    "    res = es.search(index='bestgadgetfinder',body=body)\n",
    "    return res\n",
    "\n",
    "\n",
    "SearchDataset('Redmi 9')\n",
    "\n",
    "\n"
   ]
  },
  {
   "cell_type": "code",
   "execution_count": 6,
   "id": "a3f96dfb",
   "metadata": {},
   "outputs": [
    {
     "name": "stdout",
     "output_type": "stream",
     "text": [
      " * Serving Flask app \"__main__\" (lazy loading)\n",
      " * Environment: production\n",
      "\u001b[31m   WARNING: This is a development server. Do not use it in a production deployment.\u001b[0m\n",
      "\u001b[2m   Use a production WSGI server instead.\u001b[0m\n",
      " * Debug mode: off\n"
     ]
    },
    {
     "name": "stderr",
     "output_type": "stream",
     "text": [
      " * Running on http://127.0.0.1:80/ (Press CTRL+C to quit)\n",
      "127.0.0.1 - - [01/Jul/2021 17:50:59] \"\u001b[37mGET / HTTP/1.1\u001b[0m\" 200 -\n",
      "127.0.0.1 - - [01/Jul/2021 17:50:59] \"\u001b[37mGET /favicon.ico HTTP/1.1\u001b[0m\" 200 -\n",
      "127.0.0.1 - - [01/Jul/2021 17:51:03] \"\u001b[37mGET /redmi HTTP/1.1\u001b[0m\" 200 -\n",
      "127.0.0.1 - - [01/Jul/2021 17:51:04] \"\u001b[37mGET /favicon.ico HTTP/1.1\u001b[0m\" 200 -\n",
      "127.0.0.1 - - [01/Jul/2021 17:51:10] \"\u001b[37mGET /redmi%209 HTTP/1.1\u001b[0m\" 200 -\n",
      "127.0.0.1 - - [01/Jul/2021 17:51:10] \"\u001b[37mGET /favicon.ico HTTP/1.1\u001b[0m\" 200 -\n"
     ]
    }
   ],
   "source": [
    "#Flask REST API\n",
    "from flask import Flask, jsonify, request\n",
    "\n",
    "app = Flask(__name__)\n",
    "\n",
    "@app.route('/')\n",
    "def hello():\n",
    "    return 'Best Gadget Finder'\n",
    "\n",
    "@app.route('/<string:Search>',methods=['POST','GET'])\n",
    "def SearchDataset(Search):\n",
    "    body = {\n",
    "        \"_source\": [\n",
    "        \"New_Name\",\n",
    "        \"Amazon_SalesPrice\",\n",
    "        \"Flipkart_SalesPrice\",\n",
    "        \"Snapdeal_SalesPrice\",\n",
    "        \"Amazon_ProductLink\",\n",
    "        \"Flipkart_ProductLink\",\n",
    "        \"Snapdeal_ProductLink\",\n",
    "        \"Amazon_ImageLink\",\n",
    "        \"Flipkart_ImageLink\",\n",
    "        \"Snapdeal_ImageLink\",\n",
    "      ],\n",
    "        \"from\":0,\n",
    "        'size':20,\n",
    "        'query':{\n",
    "        \"match\": {\n",
    "            \"Cleaned_Name\":Search\n",
    "            }\n",
    "        }\n",
    "\n",
    "    }\n",
    "    \n",
    "    res = es.search(index='bestgadgetfinder', body=body)\n",
    "    return jsonify(res)\n",
    "\n",
    "\n",
    "\n",
    "app.run(port=80)\n"
   ]
  }
 ],
 "metadata": {
  "kernelspec": {
   "display_name": "Python 3",
   "language": "python",
   "name": "python3"
  },
  "language_info": {
   "codemirror_mode": {
    "name": "ipython",
    "version": 3
   },
   "file_extension": ".py",
   "mimetype": "text/x-python",
   "name": "python",
   "nbconvert_exporter": "python",
   "pygments_lexer": "ipython3",
   "version": "3.8.8"
  },
  "varInspector": {
   "cols": {
    "lenName": 16,
    "lenType": 16,
    "lenVar": 40
   },
   "kernels_config": {
    "python": {
     "delete_cmd_postfix": "",
     "delete_cmd_prefix": "del ",
     "library": "var_list.py",
     "varRefreshCmd": "print(var_dic_list())"
    },
    "r": {
     "delete_cmd_postfix": ") ",
     "delete_cmd_prefix": "rm(",
     "library": "var_list.r",
     "varRefreshCmd": "cat(var_dic_list()) "
    }
   },
   "types_to_exclude": [
    "module",
    "function",
    "builtin_function_or_method",
    "instance",
    "_Feature"
   ],
   "window_display": false
  }
 },
 "nbformat": 4,
 "nbformat_minor": 5
}
