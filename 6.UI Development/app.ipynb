{
 "cells": [
  {
   "cell_type": "code",
   "execution_count": null,
   "id": "ae3668b1",
   "metadata": {},
   "outputs": [
    {
     "name": "stdout",
     "output_type": "stream",
     "text": [
      " * Serving Flask app \"__main__\" (lazy loading)\n",
      " * Environment: production\n",
      "\u001b[31m   WARNING: This is a development server. Do not use it in a production deployment.\u001b[0m\n",
      "\u001b[2m   Use a production WSGI server instead.\u001b[0m\n",
      " * Debug mode: off\n"
     ]
    },
    {
     "name": "stderr",
     "output_type": "stream",
     "text": [
      " * Running on http://127.0.0.1:5000/ (Press CTRL+C to quit)\n",
      "127.0.0.1 - - [02/Jul/2021 16:06:38] \"\u001b[37mGET / HTTP/1.1\u001b[0m\" 200 -\n",
      "127.0.0.1 - - [02/Jul/2021 16:06:38] \"\u001b[33mGET /favicon.ico HTTP/1.1\u001b[0m\" 404 -\n",
      "C:\\Users\\Noor\\anaconda3\\lib\\site-packages\\elasticsearch\\connection\\base.py:208: ElasticsearchWarning: Elasticsearch built-in security features are not enabled. Without authentication, your cluster could be accessible to anyone. See https://www.elastic.co/guide/en/elasticsearch/reference/7.13/security-minimal-setup.html to enable security.\n",
      "  warnings.warn(message, category=ElasticsearchWarning)\n",
      "127.0.0.1 - - [02/Jul/2021 16:06:41] \"\u001b[37mPOST /search/results HTTP/1.1\u001b[0m\" 200 -\n",
      "127.0.0.1 - - [02/Jul/2021 16:06:41] \"\u001b[33mGET /search/Logo.png HTTP/1.1\u001b[0m\" 404 -\n",
      "127.0.0.1 - - [02/Jul/2021 16:07:53] \"\u001b[37mPOST /search/results HTTP/1.1\u001b[0m\" 200 -\n",
      "127.0.0.1 - - [02/Jul/2021 16:07:53] \"\u001b[33mGET /search/Logo.png HTTP/1.1\u001b[0m\" 404 -\n",
      "127.0.0.1 - - [02/Jul/2021 16:08:46] \"\u001b[37mPOST /search/results HTTP/1.1\u001b[0m\" 200 -\n",
      "127.0.0.1 - - [02/Jul/2021 16:08:46] \"\u001b[33mGET /search/Logo.png HTTP/1.1\u001b[0m\" 404 -\n",
      "127.0.0.1 - - [02/Jul/2021 16:09:21] \"\u001b[33mGET /search/Not%20Available HTTP/1.1\u001b[0m\" 404 -\n"
     ]
    }
   ],
   "source": [
    "# Web App BackEnd\n",
    "from flask import Flask, render_template, request\n",
    "from elasticsearch import Elasticsearch\n",
    "\n",
    "app = Flask(__name__)\n",
    "\n",
    "@app.route('/')\n",
    "def home():\n",
    "    return render_template('search.html')\n",
    "\n",
    "@app.route('/search/results', methods=['GET', 'POST'])\n",
    "def search_request():\n",
    "    query = request.form[\"input\"]\n",
    "\n",
    "    es = Elasticsearch('localhost', port=9200)\n",
    "\n",
    "    results = es.search(\n",
    "        index=\"bestgadgetfinder\",\n",
    "        size=25,\n",
    "        body={\n",
    "            \"_source\": [\n",
    "                \"New_Name\",\n",
    "                \"Amazon_SalesPrice\",\n",
    "                \"Flipkart_SalesPrice\",\n",
    "                \"Snapdeal_SalesPrice\",\n",
    "                \"Amazon_ProductLink\",\n",
    "                \"Flipkart_ProductLink\",\n",
    "                \"Snapdeal_ProductLink\",\n",
    "            ],\n",
    "            'query': {\n",
    "                \"match\": {\n",
    "                    \"Cleaned_Name\": query\n",
    "                }\n",
    "            }\n",
    "\n",
    "        }\n",
    "    )\n",
    "    return render_template('result.html', results=results)\n",
    "\n",
    "if __name__ == '__main__':\n",
    "    app.run(port=5000)"
   ]
  }
 ],
 "metadata": {
  "kernelspec": {
   "display_name": "Python 3",
   "language": "python",
   "name": "python3"
  },
  "language_info": {
   "codemirror_mode": {
    "name": "ipython",
    "version": 3
   },
   "file_extension": ".py",
   "mimetype": "text/x-python",
   "name": "python",
   "nbconvert_exporter": "python",
   "pygments_lexer": "ipython3",
   "version": "3.8.8"
  },
  "varInspector": {
   "cols": {
    "lenName": 16,
    "lenType": 16,
    "lenVar": 40
   },
   "kernels_config": {
    "python": {
     "delete_cmd_postfix": "",
     "delete_cmd_prefix": "del ",
     "library": "var_list.py",
     "varRefreshCmd": "print(var_dic_list())"
    },
    "r": {
     "delete_cmd_postfix": ") ",
     "delete_cmd_prefix": "rm(",
     "library": "var_list.r",
     "varRefreshCmd": "cat(var_dic_list()) "
    }
   },
   "types_to_exclude": [
    "module",
    "function",
    "builtin_function_or_method",
    "instance",
    "_Feature"
   ],
   "window_display": false
  }
 },
 "nbformat": 4,
 "nbformat_minor": 5
}
